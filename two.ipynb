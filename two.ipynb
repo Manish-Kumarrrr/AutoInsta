{
 "cells": [
  {
   "cell_type": "code",
   "execution_count": 1,
   "metadata": {},
   "outputs": [
    {
     "ename": "AttributeError",
     "evalue": "'Service' object has no attribute 'chrome_version'",
     "output_type": "error",
     "traceback": [
      "\u001b[1;31m---------------------------------------------------------------------------\u001b[0m",
      "\u001b[1;31mAttributeError\u001b[0m                            Traceback (most recent call last)",
      "Cell \u001b[1;32mIn[1], line 10\u001b[0m\n\u001b[0;32m      7\u001b[0m chrome_service \u001b[39m=\u001b[39m webdriver\u001b[39m.\u001b[39mchrome\u001b[39m.\u001b[39mservice\u001b[39m.\u001b[39mService(executable_path\u001b[39m=\u001b[39mchrome_driver_path)\n\u001b[0;32m      9\u001b[0m \u001b[39m# Get the Chrome WebDriver version\u001b[39;00m\n\u001b[1;32m---> 10\u001b[0m chrome_version \u001b[39m=\u001b[39m chrome_service\u001b[39m.\u001b[39;49mchrome_version()\n\u001b[0;32m     12\u001b[0m \u001b[39mprint\u001b[39m(\u001b[39mf\u001b[39m\u001b[39m\"\u001b[39m\u001b[39mInstalled Chrome WebDriver version: \u001b[39m\u001b[39m{\u001b[39;00mchrome_version\u001b[39m}\u001b[39;00m\u001b[39m\"\u001b[39m)\n",
      "\u001b[1;31mAttributeError\u001b[0m: 'Service' object has no attribute 'chrome_version'"
     ]
    }
   ],
   "source": [
    "from selenium import webdriver\n",
    "\n",
    "# Specify the path to the Chrome WebDriver executable\n",
    "chrome_driver_path = '/path/to/chromedriver'  # Replace this with the actual path on your machine\n",
    "\n",
    "# Set up the Chrome service with the executable path\n",
    "chrome_service = webdriver.chrome.service.Service(executable_path=chrome_driver_path)\n",
    "\n",
    "# Get the Chrome WebDriver version\n",
    "chrome_version = chrome_service.chrome_version()\n",
    "\n",
    "print(f\"Installed Chrome WebDriver version: {chrome_version}\")\n"
   ]
  },
  {
   "cell_type": "code",
   "execution_count": 23,
   "metadata": {},
   "outputs": [
    {
     "name": "stdout",
     "output_type": "stream",
     "text": [
      "<selenium.webdriver.chrome.webdriver.WebDriver (session=\"c09c8916078f9d839a924f830addadf2\")>\n"
     ]
    }
   ],
   "source": [
    "from selenium import webdriver\n",
    "from selenium.webdriver.common.keys import Keys\n",
    "from selenium.webdriver.chrome.options import Options\n",
    "from selenium.webdriver.chrome.service import Service\n",
    "import time\n",
    "from selenium.webdriver.support.wait import WebDriverWait\n",
    "from selenium.webdriver.support import expected_conditions as EC\n",
    "from selenium.webdriver.common.by import By\n",
    "\n",
    "\n",
    "# Replace 'Your_Username' and 'Your_Password' with your Instagram credentials\n",
    "# __aashu25401\n",
    "# @aashu@\n",
    "USERNAME = '__aashu25401'\n",
    "PASSWORD = '@aashu@'\n",
    "# Replace 'target_username' with the username of the profile you want to scrape\n",
    "TARGET_USERNAME = 'chaurasiya_suchit'\n",
    "\n",
    "# Set up the webdriver (choose the appropriate driver for your browser)\n",
    "chrome_driver_path=\"C:\\\\Users\\\\manis\\\\OneDrive\\\\Desktop\\\\Randhir\\\\chromedriver.exe\"\n",
    "\n",
    "\n",
    "# Set up the Chrome service with the executable path\n",
    "chrome_service = Service(executable_path=chrome_driver_path)\n",
    "\n",
    "# Set up the webdriver using the specified service\n",
    "driver = webdriver.Chrome(service=chrome_service)\n",
    "# Make sure you have Chrome WebDriver installed and in your PATH\n",
    "\n",
    "# Navigate to the Instagram login page\n",
    "driver.get('https:/www.instagram.com/accounts/login/')\n",
    "\n",
    "# Wait for the login page to load\n",
    "time.sleep(2)\n",
    "\n",
    "# Locate the username and password fields, and login button\n",
    "# username_field = driver.find_element_by_name('username')\n",
    "username_field = WebDriverWait(driver, 10).until(EC.element_to_be_clickable((\n",
    "By.CSS_SELECTOR, \"input[name='username']\")))\n",
    "\n",
    "# password_field = driver.find_element_by_name('password')\n",
    "password_field =WebDriverWait(driver, 10).until(EC.element_to_be_clickable((\n",
    "By.CSS_SELECTOR, \"input[name='password']\")))\n",
    "# Input your credentials and login\n",
    "username_field.send_keys(USERNAME)\n",
    "password_field.send_keys(PASSWORD)\n",
    "# login_button = driver.find_element_by_xpath(\"//button[@type='submit']\")\n",
    "login_button = WebDriverWait(driver, 0).until(EC.element_to_be_clickable((\n",
    "By.CSS_SELECTOR, \"button[type='submit']\")))\n",
    "\n",
    "login_button.click()\n",
    "\n",
    "# Wait for the logged-in page to load\n",
    "time.sleep(5)\n",
    "\n",
    "# Navigate to the target profile page\n",
    "driver.get(f'https://www.instagram.com/{TARGET_USERNAME}/')\n",
    "\n",
    "# Wait for the profile page to load\n",
    "time.sleep(2)\n",
    "print(driver)\n",
    "\n",
    "#Click on followers\n",
    "followers_button=WebDriverWait(driver, 10).until(EC.element_to_be_clickable((By.PARTIAL_LINK_TEXT ,' followers' )))\n",
    "\n",
    "followers_button.click()\n",
    "\n",
    "num_scrolls = 3\n",
    "# for _ in range(num_scrolls):\n",
    "#     driver.execute_script('window.scrollTo(0, document.body.scrollHeight);')\n",
    "#     time.sleep(2)\n",
    "\n",
    "# # Find and scrape the titles of the top posts\n",
    "# post_titles = []\n",
    "# posts = driver.find_elements_by_xpath(\"//div[@class='v1Nh3 kIKUG  _bz0w']//a\")\n",
    "# for post in posts:\n",
    "#     post_titles.append(post.get_attribute(\"title\"))\n",
    "\n",
    "# # Print the scraped titles\n",
    "# for idx, title in enumerate(post_titles, 1):\n",
    "#     print(f\"{idx}. {title}\")\n",
    "\n",
    "# # Close the browser window\n",
    "# driver.quit()\n"
   ]
  },
  {
   "cell_type": "code",
   "execution_count": 47,
   "metadata": {},
   "outputs": [],
   "source": [
    "followers_box=WebDriverWait(driver, 10).until(EC.presence_of_element_located((By.CLASS_NAME ,'_aano' )))\n",
    "# driver.execute_script('followers_box.scrollBy(0,2000);')\n",
    "# driver.execute_script('followers_box.scrollTo(0, followers_box.body.scrollHeight);')\n",
    "# followers_box.body.scrollHeight\n",
    "\n",
    "\n",
    "\n",
    "\n",
    "\n",
    "last_height = driver.execute_script(\"return document.querySelector('._aano').scrollHeight\")\n",
    "SCROLL_PAUSE_TIME = 10\n",
    "while True:\n",
    "    driver.execute_script(\"document.querySelector('._aano').scrollTo(0, document.querySelector('._aano').scrollHeight);\")\n",
    "    time.sleep(SCROLL_PAUSE_TIME)\n",
    "    new_height = driver.execute_script(\"return document.querySelector('._aano').scrollHeight\")\n",
    "    if new_height == last_height:\n",
    "        break\n",
    "    last_height = new_height\n",
    "\n",
    "x=followers_box.text\n",
    "# x"
   ]
  },
  {
   "cell_type": "code",
   "execution_count": 48,
   "metadata": {},
   "outputs": [
    {
     "data": {
      "text/plain": [
       "'its_by_n_3899\\nNisha Raaj\\nFollow\\nmaushamchaurasiya\\nmausham chaurasiya\\nFollow\\nangel_p9hu\\ncute pihu\\nFollow\\nsurukgupta\\nSuresh Gupta\\nFollow\\nameet_kushwha\\nFollow\\nsatya7323\\nSatya Yadav\\nFollow\\nmuskan_34722\\n❥❥muskan chaursiya❥❥\\nFollow\\np_art_4you\\nPaVan Kumar\\nFollow\\nsleepythough_\\nスルビ\\nFollow\\n_manish.03_krrrr\\nManish Kumar\\nFollow\\nbadmashahir2879\\nBadmash Ahir\\nFollow\\nrajiv.m7963\\nRajiv Ranjan Chaurasiya\\nFollow\\nashutosh_kajal_08\\nkajal\\nFollow\\nmayankraj.kumar.3\\nMayank Raj Kumar\\nFollow\\ni_surendra_dhaka_manana\\nSurendra Dhaka Manana\\nFollow\\nreyansh_chaurasiya\\nRajiv Ranjan Chaurasiya\\nFollow\\nsimply_pranay\\nDr Pranay\\nFollow\\nmanish_arya95\\nManish Arya\\nFollow\\npriyankaaec79\\nPriyanka Chandra\\nFollow\\naakashchaurasia_09\\n𝘼𝙖𝙠𝙖𝙨𝙝 𝙘𝙝𝙖𝙪𝙧𝙖𝙨𝙞𝙖\\nFollow\\nimpriyankav\\nPriyanka verma\\nFollow\\nrakeshyad9390\\nRakesh R Yadav\\nFollow\\nsatyajit143_\\nSatya Jit Samal\\nFollow\\nanshu._.kashyap_1270\\n༺₳ภຮḧ𝖚𝖒คห༻\\nFollow\\nashish_shanti\\ngabru\\nFollow\\nkumarprince529\\nPrince Kumar Chourasiya\\nFollow\\nshyam_sunder4456\\nshyam sunder kumar\\nFollow\\nsantosh.14339\\nSantosh Kumar\\nFollow\\nmona9943lisha\\nmona lisha\\nFollow\\n99100_98560\\nP.k Naharwal\\nFollow\\nroh_it721\\nRohit Singh\\nFollow\\nuday.vishwakarma.77770\\nUday Vishwakarma\\nFollow\\ntinku.11hz1992\\nKanwar Tinku Thakur\\nFollow\\nabdulhaque140491\\nAbdul Haque\\nFollow\\nvish_satyavish\\nSatya Prakash Vishwakarma\\nFollow\\nbhaskarkumarray\\nBhaskar Kumar Ray\\nFollow\\nali32192019\\nMohammad Ali\\nFollow\\nparshantkumar694\\nParshant Kumar\\nFollow\\nrohit.s.rocky.1\\nRohit Singh\\nFollow\\nsandhyachourasia1975\\nSandhya Chourasia\\nFollow\\nsushil.singh02\\nSushil Kumar\\nFollow\\nersantoshgupta\\nEr Santosh Kumar Gupta\\nFollow\\nniren_mohanta\\nNiren Mohanta\\nFollow\\npawan_yadav_05_\\nPavan Yadav\\nFollow\\nsamir_chaurasiya\\nSamir Chaurasiya\\nFollow\\nrksharma14313\\nKrishna\\nFollow\\nmanishmishra8087\\nManish Mishra\\nFollow\\nmkriti_7193\\nMegha Kriti\\nFollow\\nakumar30197\\nAjit Kumar Chaurasia\\nFollow\\nhey_vikrant\\nEr Vikrant K Sharma\\nFollow\\nshyamsunderkumar1234\\nShyam Sundar Kumar\\nFollow\\nchaurasiya6038\\nAjit Chaurasiya\\nFollow\\ndaily_doze_07\\nRaj Verma\\nFollow\\nsnehasneha8721\\nSneha Sneha\\nFollow\\nsatya_er_life\\nSatya Ranjan Rout\\nFollow\\nnaushad.khan.549\\nNaushad Khan\\nFollow\\najabhijha8\\nAbhishek Jha\\nFollow\\nd2d_misty_chaurasiya\\nMisty chaurasia\\nFollow\\ndeepnamit\\nNamit Varshney\\nFollow\\ngudanraj\\nGudan Raj\\nFollow\\nnarinder.lavi\\nNarinder kumar\\nFollow\\ninnosentshashii\\nShashi Chourasiya\\nFollow\\nchandeeppal\\nChandeep Pal\\nFollow\\nshiv.mandiyal\\nŠhîv Mâñdïyäł\\nFollow\\nsiddhant.k.singh.9\\nSiddhant Kumar Singh\\nFollow\\nvikramadityakumar\\nVikramaditya kumar\\nFollow\\nrajat.bhuyan.56\\nRajat Bhuyan\\nFollow\\nanil550kumar\\nAnil Kumar\\nFollow\\nanamika__poddar\\nAnamika Poddar\\nFollow\\nsachinsingh3009\\nSachin Singh\\nFollow\\nmukesh9848kumar\\nMukesh Kumar\\nFollow\\nmunendrasingh.chak\\nMunendra Singh\\nFollow\\nruchiparihar13\\nRuchi Parihar\\nFollow\\nsanjaypal198484\\nSanjay Pal\\nFollow\\nmanoj_kchourasia\\nManoj Kumar Chourasia\\nFollow\\nsushilprakash94\\nSushil Prakash\\nFollow\\nravi.boora4003\\nRavinder Boora\\nFollow\\nsharmagaurav1492\\nGaurav Sharma\\nFollow\\nchourasia.moni\\nMoni chourasia\\nFollow\\njitendrakumar1894\\nJitendra Kumar\\nFollow\\nneha.chourasia.1297\\nNeha Chourasia\\nFollow\\nprincekumar10august\\nPrince Kumar\\nFollow\\na_r_o_h_i__k_u_m_a_r_i\\npinyy\\nFollow\\nhimanshiprajapati\\nHimmushree\\nFollow\\nsingh_mith29\\nMithilesh Singh\\nFollow\\nma.njeet641\\nManjeet Tanwar\\nFollow\\nchourasia6853\\nDhananjay Chourasia 😌\\nFollow\\njaypee035\\nJay Prakash\\nFollow\\nkumar.bittu54\\nGupta Bittu\\nFollow\\nitss_chandan\\n🇨\\u200c🇭\\u200c🇦\\u200c🇳\\u200c🇩\\u200c🇦\\u200c🇳\\u200c\\nFollow\\njasvant.singh.7758\\nJasvant Singh\\nFollow\\nmysterious_browny\\n🎀𝕋𝕚𝕞𝕤𝕚 ℍ𝕒𝕣𝕤𝕙 ℂ𝕙𝕠𝕦𝕣𝕒𝕤𝕚𝕪𝕒 🎀\\nFollow\\n__upendra_kumar_\\nUpendra Kumar\\nFollow\\ndineshvpsc2020\\nDinesh Kumar\\nFollow\\najayraj.yadav53\\nAjay Yadav\\nFollow\\nmuskan_chaurasiya_45\\nMritunjay Chaurasiya\\nFollow\\npawanrajput8492\\nLive Rajput\\nFollow\\nme_bunty.singh\\nBunty Singh\\nFollow\\nganga_chuarasiya\\nganga Kumar\\nFollow\\nimran6430\\n❤Imran🇮🇳Shaikh❤\\nFollow\\nmaa_chandi_flower_events\\nPrakash Chaurasia\\nFollow\\npurshotamk06gmail.com7\\nPurushottam Kumar\\nFollow\\nsearching_future_._._\\nBad evil\\nFollow\\n45muskanchaurasiya\\nMritunjay Chaurasiya\\nFollow\\nshreeshyamservicestation\\nManish Rohilla\\nFollow\\nsunil.20noi\\nSunil Bishnoi\\nFollow\\npinturss459\\nPintu Rss\\nFollow\\nnirmalashivam\\nRnsms Sharma\\nFollow\\nvarsha.chourasiya.406\\nVarsha Chourasiya\\nFollow\\n_amita1980_\\nAmi\\nFollow\\nbhavin9764\\nPatel Bhavin\\nFollow\\nritwik_vaishnaw\\nRitwik Vaishnaw\\nFollow\\nvikash_sub\\nVikash Kumar\\nFollow\\nanshusrivastava992\\nshubh Srivastava\\nFollow\\nsamirff101\\nSAMEER FF LOVER\\nFollow\\ncutiepai2706\\nPooja Chourasiya\\nFollow\\ngitarani4541\\nGita Rani\\nFollow\\nkarn6866\\nRakesh Karn\\nFollow\\nosr.camera.solutions\\nEr mukesh kumar chaurasiya\\nFollow\\nanish665504\\nAnish Kumar Choudhary\\nFollow\\nfaridabegum5577\\nFarida Begum\\nFollow\\nanandkeshar\\nAanand Kesharwani\\nFollow\\nneerajsharma4212\\nNEERAJ SHARMA\\nFollow\\nmanjumathur124\\nmanju mathur\\nFollow\\ner.jayprakash6365\\nEr. Jay Prakash Vishwakarma\\nFollow\\nkunabhis\\nKunal\\nFollow\\nalok1039\\nAlok Verma\\nFollow\\nsunilchaurasiya406\\nSunil Kumar chaurasiya\\nFollow\\nsahani8483\\nSuraj Sahani\\nFollow\\nramavtar.prasad\\nRamavtar Prasad\\nFollow\\ntejpalbhatti5526\\ntejpalbhatti\\nFollow\\nshashi1991.kr\\nShashi Bhushan\\nFollow\\nasif.qazi.750\\nAsif Qazi\\nFollow\\namrendra_rajpoot12\\nAmrendra Singh Rajpoot\\nFollow\\npranavkumar50\\nPranav Kumar\\nFollow\\nlalbabu3\\nLal babu Sharma\\nFollow\\nmona.lisha517r2022\\nmona\\nFollow\\nkundan.krishna91\\nKrishna Kundan\\nFollow\\ndriving_lover_96\\nMafhia Rangbaaz Ahir\\nFollow\\ndineshmkr\\nDinesh Kumar Chaurasiya\\nFollow\\nanikeshmunzni\\nAnikesh Munzni\\nFollow\\nvikash.chaurasiya.165685\\nVikash Chaurasiya\\nFollow\\nsatyanandkisku\\nSatyanand Kr Kisku\\nFollow\\nkumardeepak77820\\nDeepak Kumar\\nFollow\\nmayankraj9229\\nRaj Kumar\\nFollow\\nkd66957\\n𝕲𝖍𝖔𝖘𝖙 𝕽𝖎𝖉𝖊𝖗\\nFollow\\ncpa.sudheer.k\\nSudheer Kumar\\nFollow\\npretammm\\nअभय सिंह यादव\\nFollow\\ndharmu.rsg\\nĐHĂŘMÜ\\nFollow\\nrekhakumari931\\nrekha kumari\\nFollow\\nsanjivkumar4252\\nSanjiv Kumar\\nFollow\\nsharma.rahul523\\nRahul Moudgil Sharma\\nFollow\\nsonam_chaurasiya19\\nSonam chaurasiya\\nFollow\\nvijay.prajapati.3363\\nVinay Kumar Prajapati\\nFollow\\nsivabaniwal\\nsiva baniwal\\nFollow\\nratnesh.srivastava.564\\nRatnesh Srivastava\\nFollow\\njittu117\\njitendra kumar\\nFollow\\nsaifkhan00614\\nSaif Khan\\nFollow\\nsurajyadav970\\nSmart Raju Yadav\\nFollow\\nshyam.mishra.9\\nShyam Mishra\\nFollow\\nsthbjkjg\\naekya\\nFollow\\nsanukumar7773\\nzeddi boy\\nFollow\\nyogisam_love\\nYogisam Srivastava\\nFollow\\nfzgymlalru\\nFzgymlalru\\nFollow\\nsrivastav_rudra\\nRudra Dev Srivastav\\nFollow\\nsam.eer9233\\nChaursaiya Sameer Chaursaiya\\nFollow\\namitmauryavanshi\\nAmit Mauryavanshi\\nFollow\\nrekhakumari5703\\nrekha kumari\\nFollow\\nsp.vish0779\\nSatya Prakash\\nFollow\\nankushjaiswal468\\nAnkush Jaiswal\\nFollow\\ndevdubey406\\nDev Dubey\\nFollow\\nkumar.prince298\\nPrince Kumar\\nFollow\\nshivranjan.raj\\nYash Marandi\\nFollow\\nchandeep.pal.37\\nChandeep Pal\\nFollow\\najaykr.9006\\nAjay kumar\\nFollow\\nbabashyamproperties\\nVijay Singh\\nFollow\\nkumarrajeshsharma99\\nEr Rajesh Kumar Sharma\\nFollow\\nsumit.duhan.77\\nSumit Duhan\\nFollow\\nriteshk_sharma\\nRitesh Kumar Sharma\\nFollow\\nmritunjay100\\nMritunjay Singh\\nFollow\\npavan70.gurua\\npavankumar\\nFollow\\npooj8682\\npooja\\nFollow\\n123456.pooja\\npooja 123456\\nFollow\\nermanmohans\\nई. मनमोहन कुमार\\nFollow\\nraiheerarai\\nRai@heeraRai\\nFollow\\niamshekhar___\\nMayank Shekhar\\nFollow\\nasho.k4220\\nAshok Kumar\\nFollow\\njitendrathakur681\\nJitendra Thakur\\nFollow\\ndilipsharma273\\ndilipsharma\\nFollow\\ngiri.shashibhushan\\nShashi Bhushan Giri\\nFollow\\nsantoshnidhi143\\nSantosh Kumar\\nFollow\\nsangita.agra\\nSangita Chaurasia\\nFollow\\nchourasiyakanhaiya\\nKanhaiya Kumar\\nFollow\\nsatya.p4july\\nSatya Prakash\\nFollow\\ndildar_thakur_302\\nAmit ❤\\nFollow\\nharprasad.singh.9\\nHar Prasad Singh\\nFollow\\nvraj1160\\nRaj Verma\\nFollow\\noprakashray\\nOm Prakash Ray\\nFollow\\nmohdsalman5328\\nmohd salman\\nFollow\\nbhupendrasingh3547\\nBhupendra Singh\\nFollow\\ndeepak.kumaryadav.790\\nDeepak Kumar Yadav\\nFollow\\napurba3748\\nAPURBA MONDAL\\nFollow\\nraghunath_mandal_1234\\nFollow\\nshilpi.sanu\\nShilpi Sanu\\nFollow\\nbhanucoolstar\\nBhanu Kumar Vishwakarma\\nFollow\\njamil6583\\nJ@m!|_\\nFollow\\nansari_dabir\\nDabir Ansari\\nFollow\\njitendrasharma30\\nER Jitendra Kishor Sharma\\nFollow\\nchourasiadilip2008\\nDilip Chourasia\\nFollow\\nan.il8186\\nanil shah\\nFollow\\nbudbakentertainment\\nBudbak entertainment\\nFollow\\ndealsrightnow_app\\nDRN\\nFollow\\nbidhutrauat\\nbidyut\\nFollow\\nsantoshsha9263\\nSantosh Sharma\\nFollow\\narunkumarmahato92\\narun kumar mahato\\nFollow\\nshiv_mandiyal\\nShiv Mandiyal\\nFollow\\npartyzapp\\nPartyZapp🎈🎂🍸\\nFollow\\ngautam.mahto\\nGautam Kumar Mahto\\nFollow'"
      ]
     },
     "execution_count": 48,
     "metadata": {},
     "output_type": "execute_result"
    }
   ],
   "source": [
    "x\n"
   ]
  },
  {
   "cell_type": "code",
   "execution_count": 51,
   "metadata": {},
   "outputs": [
    {
     "ename": "JSONDecodeError",
     "evalue": "Expecting value: line 1 column 1 (char 0)",
     "output_type": "error",
     "traceback": [
      "\u001b[1;31m---------------------------------------------------------------------------\u001b[0m",
      "\u001b[1;31mJSONDecodeError\u001b[0m                           Traceback (most recent call last)",
      "Cell \u001b[1;32mIn[51], line 2\u001b[0m\n\u001b[0;32m      1\u001b[0m \u001b[39mimport\u001b[39;00m \u001b[39mjson\u001b[39;00m\n\u001b[1;32m----> 2\u001b[0m y\u001b[39m=\u001b[39mjson\u001b[39m.\u001b[39;49mloads(x)\n\u001b[0;32m      3\u001b[0m y\n",
      "File \u001b[1;32mc:\\Program Files\\Python311\\Lib\\json\\__init__.py:346\u001b[0m, in \u001b[0;36mloads\u001b[1;34m(s, cls, object_hook, parse_float, parse_int, parse_constant, object_pairs_hook, **kw)\u001b[0m\n\u001b[0;32m    341\u001b[0m     s \u001b[39m=\u001b[39m s\u001b[39m.\u001b[39mdecode(detect_encoding(s), \u001b[39m'\u001b[39m\u001b[39msurrogatepass\u001b[39m\u001b[39m'\u001b[39m)\n\u001b[0;32m    343\u001b[0m \u001b[39mif\u001b[39;00m (\u001b[39mcls\u001b[39m \u001b[39mis\u001b[39;00m \u001b[39mNone\u001b[39;00m \u001b[39mand\u001b[39;00m object_hook \u001b[39mis\u001b[39;00m \u001b[39mNone\u001b[39;00m \u001b[39mand\u001b[39;00m\n\u001b[0;32m    344\u001b[0m         parse_int \u001b[39mis\u001b[39;00m \u001b[39mNone\u001b[39;00m \u001b[39mand\u001b[39;00m parse_float \u001b[39mis\u001b[39;00m \u001b[39mNone\u001b[39;00m \u001b[39mand\u001b[39;00m\n\u001b[0;32m    345\u001b[0m         parse_constant \u001b[39mis\u001b[39;00m \u001b[39mNone\u001b[39;00m \u001b[39mand\u001b[39;00m object_pairs_hook \u001b[39mis\u001b[39;00m \u001b[39mNone\u001b[39;00m \u001b[39mand\u001b[39;00m \u001b[39mnot\u001b[39;00m kw):\n\u001b[1;32m--> 346\u001b[0m     \u001b[39mreturn\u001b[39;00m _default_decoder\u001b[39m.\u001b[39;49mdecode(s)\n\u001b[0;32m    347\u001b[0m \u001b[39mif\u001b[39;00m \u001b[39mcls\u001b[39m \u001b[39mis\u001b[39;00m \u001b[39mNone\u001b[39;00m:\n\u001b[0;32m    348\u001b[0m     \u001b[39mcls\u001b[39m \u001b[39m=\u001b[39m JSONDecoder\n",
      "File \u001b[1;32mc:\\Program Files\\Python311\\Lib\\json\\decoder.py:337\u001b[0m, in \u001b[0;36mJSONDecoder.decode\u001b[1;34m(self, s, _w)\u001b[0m\n\u001b[0;32m    332\u001b[0m \u001b[39mdef\u001b[39;00m \u001b[39mdecode\u001b[39m(\u001b[39mself\u001b[39m, s, _w\u001b[39m=\u001b[39mWHITESPACE\u001b[39m.\u001b[39mmatch):\n\u001b[0;32m    333\u001b[0m \u001b[39m    \u001b[39m\u001b[39m\"\"\"Return the Python representation of ``s`` (a ``str`` instance\u001b[39;00m\n\u001b[0;32m    334\u001b[0m \u001b[39m    containing a JSON document).\u001b[39;00m\n\u001b[0;32m    335\u001b[0m \n\u001b[0;32m    336\u001b[0m \u001b[39m    \"\"\"\u001b[39;00m\n\u001b[1;32m--> 337\u001b[0m     obj, end \u001b[39m=\u001b[39m \u001b[39mself\u001b[39;49m\u001b[39m.\u001b[39;49mraw_decode(s, idx\u001b[39m=\u001b[39;49m_w(s, \u001b[39m0\u001b[39;49m)\u001b[39m.\u001b[39;49mend())\n\u001b[0;32m    338\u001b[0m     end \u001b[39m=\u001b[39m _w(s, end)\u001b[39m.\u001b[39mend()\n\u001b[0;32m    339\u001b[0m     \u001b[39mif\u001b[39;00m end \u001b[39m!=\u001b[39m \u001b[39mlen\u001b[39m(s):\n",
      "File \u001b[1;32mc:\\Program Files\\Python311\\Lib\\json\\decoder.py:355\u001b[0m, in \u001b[0;36mJSONDecoder.raw_decode\u001b[1;34m(self, s, idx)\u001b[0m\n\u001b[0;32m    353\u001b[0m     obj, end \u001b[39m=\u001b[39m \u001b[39mself\u001b[39m\u001b[39m.\u001b[39mscan_once(s, idx)\n\u001b[0;32m    354\u001b[0m \u001b[39mexcept\u001b[39;00m \u001b[39mStopIteration\u001b[39;00m \u001b[39mas\u001b[39;00m err:\n\u001b[1;32m--> 355\u001b[0m     \u001b[39mraise\u001b[39;00m JSONDecodeError(\u001b[39m\"\u001b[39m\u001b[39mExpecting value\u001b[39m\u001b[39m\"\u001b[39m, s, err\u001b[39m.\u001b[39mvalue) \u001b[39mfrom\u001b[39;00m \u001b[39mNone\u001b[39;00m\n\u001b[0;32m    356\u001b[0m \u001b[39mreturn\u001b[39;00m obj, end\n",
      "\u001b[1;31mJSONDecodeError\u001b[0m: Expecting value: line 1 column 1 (char 0)"
     ]
    }
   ],
   "source": [
    "import json\n",
    "y=json.loads(x)\n",
    "y"
   ]
  },
  {
   "cell_type": "code",
   "execution_count": null,
   "metadata": {},
   "outputs": [],
   "source": [
    "x9f619 xjbqb8w x1rg5ohu x168nmei x13lgxp2 x5pf9jr xo71vjh x1n2onr6 x1plvlek xryxfnj x1c4vz4f x2lah0s x1q0g3np xqjyukv x6s0dn4 x1oa3qoh x1nhvcw1"
   ]
  }
 ],
 "metadata": {
  "kernelspec": {
   "display_name": "Python 3",
   "language": "python",
   "name": "python3"
  },
  "language_info": {
   "codemirror_mode": {
    "name": "ipython",
    "version": 3
   },
   "file_extension": ".py",
   "mimetype": "text/x-python",
   "name": "python",
   "nbconvert_exporter": "python",
   "pygments_lexer": "ipython3",
   "version": "3.11.4"
  },
  "orig_nbformat": 4
 },
 "nbformat": 4,
 "nbformat_minor": 2
}
