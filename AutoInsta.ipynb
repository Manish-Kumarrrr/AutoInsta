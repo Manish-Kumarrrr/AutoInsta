{
 "cells": [
  {
   "cell_type": "markdown",
   "metadata": {},
   "source": [
    "#### Author: Manish Kumar\n",
    "#### Date : 21-07-2023\n",
    "#### Project_Name : AutoInsta(only for study purpose)\n",
    "#### Features: Automated Sign In and Scraping followers list of given Target_Username"
   ]
  },
  {
   "cell_type": "code",
   "execution_count": null,
   "metadata": {},
   "outputs": [],
   "source": [
    "# install all library \n",
    "!pip install pandas\n",
    "!pip install selenium"
   ]
  },
  {
   "cell_type": "code",
   "execution_count": 13,
   "metadata": {},
   "outputs": [],
   "source": [
    "# all important libraries are imported\n",
    "import time\n",
    "import csv\n",
    "import random\n",
    "import pandas as pd\n",
    "from selenium import webdriver\n",
    "from selenium.webdriver.common.keys import Keys\n",
    "from selenium.webdriver.chrome.options import Options\n",
    "from selenium.webdriver.chrome.service import Service\n",
    "from selenium.webdriver.support.wait import WebDriverWait\n",
    "from selenium.webdriver.support import expected_conditions as EC\n",
    "from selenium.webdriver.common.by import By"
   ]
  },
  {
   "cell_type": "code",
   "execution_count": 46,
   "metadata": {},
   "outputs": [],
   "source": [
    "# Replace 'Your_Username' and 'Your_Password' with your Instagram credentials\n",
    "# __aashu25401\n",
    "# @aashu@\n",
    "USERNAME = '__aashu25401'\n",
    "PASSWORD = '@aashu@'\n",
    "# Replace 'target_username' with the username of the profile you want to scrape\n",
    "TARGET_USERNAMES = ['virat.kohli','chaurasiya_suchit']"
   ]
  },
  {
   "cell_type": "markdown",
   "metadata": {},
   "source": [
    "### Only single time (Enter Credentials )"
   ]
  },
  {
   "cell_type": "code",
   "execution_count": 8,
   "metadata": {},
   "outputs": [
    {
     "name": "stdout",
     "output_type": "stream",
     "text": [
      "Enter username: \n",
      "FGD\n",
      "Enter password: \n",
      "FDFDD\n"
     ]
    }
   ],
   "source": [
    "# print(\"Enter username: \",end=\"\")\n",
    "# USERNAME=input(\"username\")\n",
    "# print(USERNAME)\n",
    "# print(\"Enter password: \",end=\"\")\n",
    "# PASSWORD=input(\"password\")\n",
    "# print(PASSWORD)"
   ]
  },
  {
   "cell_type": "code",
   "execution_count": 62,
   "metadata": {},
   "outputs": [],
   "source": [
    "# Set up the webdriver (choose the appropriate driver for your browser)\n",
    "chrome_driver_path=\"C:\\\\Users\\\\manis\\\\OneDrive\\\\Desktop\\\\Randhir\\\\chromedriver.exe\"\n",
    "\n",
    "\n",
    "# Set up the Chrome service with the executable path\n",
    "chrome_service = Service(executable_path=chrome_driver_path)\n",
    "\n",
    "# Set up the webdriver using the specified service\n",
    "driver = webdriver.Chrome(service=chrome_service)\n",
    "# Make sure you have Chrome WebDriver installed and in your PATH\n",
    "\n",
    "# Navigate to the Instagram login page\n",
    "driver.get('https:/www.instagram.com/accounts/login/')\n",
    "\n",
    "# Wait for the login page to load\n",
    "time.sleep(2)\n",
    "\n",
    "# Locate the username and password fields\n",
    "username_field = WebDriverWait(driver, 10).until(EC.element_to_be_clickable((By.CSS_SELECTOR, \"input[name='username']\")))\n",
    "password_field =WebDriverWait(driver, 10).until(EC.element_to_be_clickable((By.CSS_SELECTOR, \"input[name='password']\")))\n",
    "\n",
    "# Input your credentials and login\n",
    "username_field.send_keys(USERNAME)\n",
    "password_field.send_keys(PASSWORD)\n",
    "\n",
    "# login_button \n",
    "login_button = WebDriverWait(driver, 0).until(EC.element_to_be_clickable((By.CSS_SELECTOR, \"button[type='submit']\")))\n",
    "time.sleep(5)\n",
    "login_button.click()\n",
    "\n",
    "# Wait for the logged-in page to load\n",
    "time.sleep(5)\n"
   ]
  },
  {
   "cell_type": "markdown",
   "metadata": {},
   "source": [
    "#### Enter Target_username count and their username"
   ]
  },
  {
   "cell_type": "code",
   "execution_count": null,
   "metadata": {},
   "outputs": [],
   "source": [
    "# TARGET_USERNAMES=[]\n",
    "# print('No.of targetuser = ',end=\"\")\n",
    "# n = int ( input())  #taking number of targets as user inputs\n",
    "# print(n)\n",
    "# for i in range(n):\n",
    "#     print(f\"Enter target username no- {i+1} = \",end=\"\")\n",
    "#     name=input()\n",
    "#     print(name)\n",
    "#     TARGET_USERNAMES.append(name)\n",
    "# TARGET_USERNAMES"
   ]
  },
  {
   "cell_type": "code",
   "execution_count": null,
   "metadata": {},
   "outputs": [],
   "source": [
    "username_list=[]\n",
    "for TARGET_USERNAME in TARGET_USERNAMES:\n",
    "    driver.get(f'https://www.instagram.com/{TARGET_USERNAME}/')\n",
    "\n",
    "    # Wait for the profile page to load\n",
    "    time.sleep(2)\n",
    "    print(driver)\n",
    "\n",
    "    #Click on followers\n",
    "    try:\n",
    "        followers_button=WebDriverWait(driver, 10).until(EC.element_to_be_clickable((By.PARTIAL_LINK_TEXT ,' followers' )))\n",
    "        followers_button.click()\n",
    "        time.sleep(2)\n",
    "        last_height = driver.execute_script(\"return document.querySelector('._aano').scrollHeight\")\n",
    "        SCROLL_PAUSE_TIME = 20\n",
    "        ct=0\n",
    "        while ct!=100:\n",
    "            ct=ct+1\n",
    "            driver.execute_script(\"document.querySelector('._aano').scrollTo(0, document.querySelector('._aano').scrollHeight);\")\n",
    "            SCROLL_PAUSE_TIME=random.randint(16,21) #this will help in non periodic scroll\n",
    "            time.sleep(SCROLL_PAUSE_TIME)\n",
    "            new_height = driver.execute_script(\"return document.querySelector('._aano').scrollHeight\")\n",
    "            if new_height == last_height:\n",
    "                break\n",
    "            last_height = new_height\n",
    "\n",
    "        followers=WebDriverWait(driver, 10).until(EC.presence_of_all_elements_located((By.CLASS_NAME ,\"_aacx\")))\n",
    "\n",
    "        for i in followers:\n",
    "            username_list.append(i.text)\n",
    "    \n",
    "    except:\n",
    "        print(f\"{TARGET_USERNAME} is wrong username!!!\")\n"
   ]
  },
  {
   "cell_type": "code",
   "execution_count": 63,
   "metadata": {},
   "outputs": [],
   "source": [
    "dict={'username':username_list}\n",
    "df=pd.DataFrame(dict)\n",
    "df.to_csv('username.csv',index=False)\n",
    "df.to_excel('result.xlsx', index = False)"
   ]
  }
 ],
 "metadata": {
  "kernelspec": {
   "display_name": "Python 3",
   "language": "python",
   "name": "python3"
  },
  "language_info": {
   "codemirror_mode": {
    "name": "ipython",
    "version": 3
   },
   "file_extension": ".py",
   "mimetype": "text/x-python",
   "name": "python",
   "nbconvert_exporter": "python",
   "pygments_lexer": "ipython3",
   "version": "3.11.4"
  },
  "orig_nbformat": 4
 },
 "nbformat": 4,
 "nbformat_minor": 2
}
